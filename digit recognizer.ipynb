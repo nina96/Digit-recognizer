{
 "cells": [
  {
   "cell_type": "code",
   "execution_count": 76,
   "id": "52ceb949-f305-44b7-ac19-825b2b19528b",
   "metadata": {},
   "outputs": [],
   "source": [
    "import tensorflow as tf\n",
    "import numpy as np\n",
    "from tensorflow import keras\n",
    "import matplotlib.pyplot as plt\n",
    "import pandas as pd\n",
    "%matplotlib inline"
   ]
  },
  {
   "cell_type": "code",
   "execution_count": 78,
   "id": "f9393131-9865-4c5a-b3cf-00c82f9e4e55",
   "metadata": {},
   "outputs": [],
   "source": [
    "df_train=pd.read_csv('train.csv')\n",
    "df_test=pd.read_csv('test.csv')\n"
   ]
  },
  {
   "cell_type": "code",
   "execution_count": 79,
   "id": "f4cca79f-b8cd-4569-80aa-8fbc26b04c49",
   "metadata": {},
   "outputs": [
    {
     "data": {
      "text/plain": [
       "(42000, 785)"
      ]
     },
     "execution_count": 79,
     "metadata": {},
     "output_type": "execute_result"
    }
   ],
   "source": [
    "df_train.shape"
   ]
  },
  {
   "cell_type": "code",
   "execution_count": 80,
   "id": "f6e7f0b5-c70f-48c9-8799-38fece11059b",
   "metadata": {},
   "outputs": [],
   "source": [
    "feature= df_train.drop('label', axis=1)\n",
    "target= df_train.label"
   ]
  },
  {
   "cell_type": "code",
   "execution_count": 104,
   "id": "2c97ec75-31de-49b0-8333-16c854297749",
   "metadata": {},
   "outputs": [
    {
     "data": {
      "text/plain": [
       "(28000, 784)"
      ]
     },
     "execution_count": 104,
     "metadata": {},
     "output_type": "execute_result"
    }
   ],
   "source": [
    "df_test.shape"
   ]
  },
  {
   "cell_type": "code",
   "execution_count": 105,
   "id": "73b626d2-8875-4357-9cbc-46d3cb37cdf6",
   "metadata": {},
   "outputs": [],
   "source": [
    "from sklearn.model_selection import train_test_split\n",
    "x_train,x_test,y_train,y_test=train_test_split(feature, target)\n",
    "x_train=x_train/255\n",
    "x_test=x_test/255\n",
    "df_test=df_test/255"
   ]
  },
  {
   "cell_type": "code",
   "execution_count": 133,
   "id": "b88c63c7-7ae7-480a-a558-3cec8df67bd0",
   "metadata": {},
   "outputs": [
    {
     "name": "stdout",
     "output_type": "stream",
     "text": [
      "Epoch 1/5\n",
      "985/985 [==============================] - 5s 2ms/step - loss: 0.3085 - accuracy: 0.9112\n",
      "Epoch 2/5\n",
      "985/985 [==============================] - 2s 2ms/step - loss: 0.1355 - accuracy: 0.9598\n",
      "Epoch 3/5\n",
      "985/985 [==============================] - 2s 2ms/step - loss: 0.0923 - accuracy: 0.9725\n",
      "Epoch 4/5\n",
      "985/985 [==============================] - 1s 1ms/step - loss: 0.0659 - accuracy: 0.9805\n",
      "Epoch 5/5\n",
      "985/985 [==============================] - 3s 3ms/step - loss: 0.0493 - accuracy: 0.9850\n"
     ]
    },
    {
     "data": {
      "text/plain": [
       "<keras.callbacks.History at 0x23069a5f6a0>"
      ]
     },
     "execution_count": 133,
     "metadata": {},
     "output_type": "execute_result"
    }
   ],
   "source": [
    "model= keras.Sequential([\n",
    "    keras.layers.Dense(200,activation='relu'),\n",
    "    keras.layers.Dense(10,activation='sigmoid')   \n",
    "])\n",
    "model.compile(optimizer='adam',\n",
    "              loss='SparseCategoricalCrossentropy',\n",
    "              metrics=['accuracy']\n",
    "             )\n",
    "model.fit(x_train,y_train, epochs=5)"
   ]
  },
  {
   "cell_type": "code",
   "execution_count": 96,
   "id": "75893eb4-e145-4eb2-8a7b-713aea76a477",
   "metadata": {},
   "outputs": [],
   "source": [
    "y_predict=model.predict(x_test)"
   ]
  },
  {
   "cell_type": "code",
   "execution_count": 127,
   "id": "e4da2164-f89d-4aba-bf00-aad422ea31d1",
   "metadata": {},
   "outputs": [],
   "source": [
    "test_predict=model.predict(df_test)"
   ]
  },
  {
   "cell_type": "code",
   "execution_count": 128,
   "id": "74a5b0a1-8903-4bbe-9a74-4d39289fee09",
   "metadata": {},
   "outputs": [],
   "source": [
    "predict=np.argmax(test_predict, axis=1)"
   ]
  },
  {
   "cell_type": "code",
   "execution_count": 129,
   "id": "8ce04da8-778c-4ef9-adea-26d9f407ebaa",
   "metadata": {},
   "outputs": [],
   "source": [
    "submission=pd.read_csv('sample_submission.csv')\n",
    "submission['Label']=predict\n",
    "submission.to_csv('submission2.csv', index=False)"
   ]
  },
  {
   "cell_type": "code",
   "execution_count": null,
   "id": "26fa350b-4295-4cf8-996f-c891852d66ad",
   "metadata": {},
   "outputs": [],
   "source": []
  }
 ],
 "metadata": {
  "kernelspec": {
   "display_name": "Python 3 (ipykernel)",
   "language": "python",
   "name": "python3"
  },
  "language_info": {
   "codemirror_mode": {
    "name": "ipython",
    "version": 3
   },
   "file_extension": ".py",
   "mimetype": "text/x-python",
   "name": "python",
   "nbconvert_exporter": "python",
   "pygments_lexer": "ipython3",
   "version": "3.9.7"
  }
 },
 "nbformat": 4,
 "nbformat_minor": 5
}
